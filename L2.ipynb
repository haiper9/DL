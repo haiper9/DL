{
 "cells": [
  {
   "cell_type": "markdown",
   "id": "1db827fd",
   "metadata": {},
   "source": [
    "## Лабораторная работа №2\n",
    "\n",
    "#### Задание 1\n",
    "Провести классификацию найденного датасета, методом машины опорных векторов. В формате Markdown писать пояснения. Объяснить почему были выбраны именно такие гиперпараметры, была ли перекрестная проверка, и т.д.\n",
    "\n",
    "#### Ход работы:"
   ]
  },
  {
   "cell_type": "code",
   "execution_count": 1,
   "id": "30ae2235",
   "metadata": {},
   "outputs": [],
   "source": [
    "import pandas as pd\n",
    "from sklearn.model_selection import train_test_split, GridSearchCV\n",
    "from sklearn.svm import SVC\n",
    "from sklearn.preprocessing import LabelEncoder, StandardScaler\n",
    "from sklearn.metrics import accuracy_score, classification_report\n",
    "import numpy as np"
   ]
  },
  {
   "cell_type": "code",
   "execution_count": 2,
   "id": "dc60ef49",
   "metadata": {},
   "outputs": [],
   "source": [
    "# Загрузка данных\n",
    "data = pd.read_csv('anime-dataset-2023.csv')"
   ]
  },
  {
   "cell_type": "code",
   "execution_count": 3,
   "id": "7de2c28b",
   "metadata": {},
   "outputs": [
    {
     "name": "stdout",
     "output_type": "stream",
     "text": [
      "Общая информация о данных:\n",
      "Количество строк: 24905\n",
      "Количество столбцов: 24\n",
      "\n",
      "Типы данных по столбцам:\n",
      "anime_id         int64\n",
      "Name            object\n",
      "English name    object\n",
      "Other name      object\n",
      "Score           object\n",
      "Genres          object\n",
      "Synopsis        object\n",
      "Type            object\n",
      "Episodes        object\n",
      "Aired           object\n",
      "Premiered       object\n",
      "Status          object\n",
      "Producers       object\n",
      "Licensors       object\n",
      "Studios         object\n",
      "Source          object\n",
      "Duration        object\n",
      "Rating          object\n",
      "Rank            object\n",
      "Popularity       int64\n",
      "Favorites        int64\n",
      "Scored By       object\n",
      "Members          int64\n",
      "Image URL       object\n",
      "dtype: object\n"
     ]
    }
   ],
   "source": [
    "# Вывод общей информации о данных\n",
    "print(\"Общая информация о данных:\")\n",
    "print(f\"Количество строк: {data.shape[0]}\")\n",
    "print(f\"Количество столбцов: {data.shape[1]}\")\n",
    "print(\"\\nТипы данных по столбцам:\")\n",
    "print(data.dtypes)"
   ]
  },
  {
   "cell_type": "code",
   "execution_count": 4,
   "id": "f1358a69",
   "metadata": {},
   "outputs": [],
   "source": [
    "# Разделение на признаки (X) и целевую переменную (y)\n",
    "X = data.drop('Type', axis=1)\n",
    "y = data['Type']\n",
    "label_encoder = LabelEncoder()\n",
    "for column in X.columns:\n",
    "    if X[column].dtype == 'object':\n",
    "        X[column] = label_encoder.fit_transform(X[column])\n",
    "\n",
    "# Разделение данных на тренировочный и тестовый наборы\n",
    "# random_state=42 - гарантирует, что данные каждый раз будут одинакого разбиваться\n",
    "X_train, X_test, y_train, y_test = train_test_split(X, y, test_size=0.2, random_state=42)\n",
    "\n",
    "# Масштабирование признаков (нормализация)\n",
    "scaler = StandardScaler()\n",
    "X_train_scaled = scaler.fit_transform(X_train)\n",
    "X_test_scaled = scaler.transform(X_test)"
   ]
  },
  {
   "cell_type": "markdown",
   "id": "a16cff5d",
   "metadata": {},
   "source": [
    "Гиперпараметры:\n",
    "   - C (регуляризация): Определяет силу регуляризации в модели SVM (Support Vector Machine / Машина опорных векторов); более низкое значение C увеличивает штраф за неправильную классификацию, что может привести к созданию простой модели с большей обобщающей способностью.\n",
    "   - gamma (ядерный коэффициент): Определяет влияние одного тренировочного примера на другие; меньшие значения gamma означают более широкие гауссовы функции и приводят к более простым/прямым границам решения.\n",
    "   - kernel (ядро): Определяет тип использованного ядра (линейное или RBF); линейное ядро работает линейно, тогда как RBF (радиально-базисная функция) способно моделировать сложные границы решений."
   ]
  },
  {
   "cell_type": "code",
   "execution_count": 5,
   "id": "1bd68cee",
   "metadata": {},
   "outputs": [],
   "source": [
    "param_grid = {'C': [0.01, 0.1, 1], 'kernel': ['linear', 'rbf', 'sigmoid'], 'gamma': [0.1, 1, 10]}"
   ]
  },
  {
   "cell_type": "markdown",
   "id": "82aa67ed",
   "metadata": {},
   "source": [
    "Подбор гиперпараметров с помощью перекрестной проверки"
   ]
  },
  {
   "cell_type": "code",
   "execution_count": 6,
   "id": "c0d346c9",
   "metadata": {},
   "outputs": [
    {
     "name": "stdout",
     "output_type": "stream",
     "text": [
      "Fitting 5 folds for each of 27 candidates, totalling 135 fits\n",
      "[CV 1/5] END ..C=0.01, gamma=0.1, kernel=linear;, score=0.705 total time=   6.9s\n",
      "[CV 2/5] END ..C=0.01, gamma=0.1, kernel=linear;, score=0.699 total time=   6.6s\n",
      "[CV 3/5] END ..C=0.01, gamma=0.1, kernel=linear;, score=0.696 total time=   6.8s\n",
      "[CV 4/5] END ..C=0.01, gamma=0.1, kernel=linear;, score=0.699 total time=   6.8s\n",
      "[CV 5/5] END ..C=0.01, gamma=0.1, kernel=linear;, score=0.696 total time=   6.9s\n",
      "[CV 1/5] END .....C=0.01, gamma=0.1, kernel=rbf;, score=0.491 total time=  25.1s\n",
      "[CV 2/5] END .....C=0.01, gamma=0.1, kernel=rbf;, score=0.489 total time=  26.2s\n",
      "[CV 3/5] END .....C=0.01, gamma=0.1, kernel=rbf;, score=0.493 total time=  24.9s\n",
      "[CV 4/5] END .....C=0.01, gamma=0.1, kernel=rbf;, score=0.491 total time=  24.4s\n",
      "[CV 5/5] END .....C=0.01, gamma=0.1, kernel=rbf;, score=0.492 total time=  24.1s\n",
      "[CV 1/5] END .C=0.01, gamma=0.1, kernel=sigmoid;, score=0.625 total time=  17.6s\n",
      "[CV 2/5] END .C=0.01, gamma=0.1, kernel=sigmoid;, score=0.627 total time=  17.5s\n",
      "[CV 3/5] END .C=0.01, gamma=0.1, kernel=sigmoid;, score=0.618 total time=  17.7s\n",
      "[CV 4/5] END .C=0.01, gamma=0.1, kernel=sigmoid;, score=0.634 total time=  17.7s\n",
      "[CV 5/5] END .C=0.01, gamma=0.1, kernel=sigmoid;, score=0.630 total time=  17.5s\n",
      "[CV 1/5] END ....C=0.01, gamma=1, kernel=linear;, score=0.705 total time=   6.5s\n",
      "[CV 2/5] END ....C=0.01, gamma=1, kernel=linear;, score=0.699 total time=   6.6s\n",
      "[CV 3/5] END ....C=0.01, gamma=1, kernel=linear;, score=0.696 total time=   6.5s\n",
      "[CV 4/5] END ....C=0.01, gamma=1, kernel=linear;, score=0.699 total time=   6.6s\n",
      "[CV 5/5] END ....C=0.01, gamma=1, kernel=linear;, score=0.696 total time=   6.6s\n",
      "[CV 1/5] END .......C=0.01, gamma=1, kernel=rbf;, score=0.302 total time=  31.7s\n",
      "[CV 2/5] END .......C=0.01, gamma=1, kernel=rbf;, score=0.302 total time=  32.4s\n",
      "[CV 3/5] END .......C=0.01, gamma=1, kernel=rbf;, score=0.302 total time=  32.0s\n",
      "[CV 4/5] END .......C=0.01, gamma=1, kernel=rbf;, score=0.302 total time=  31.3s\n",
      "[CV 5/5] END .......C=0.01, gamma=1, kernel=rbf;, score=0.302 total time=  31.8s\n",
      "[CV 1/5] END ...C=0.01, gamma=1, kernel=sigmoid;, score=0.381 total time=  21.7s\n",
      "[CV 2/5] END ...C=0.01, gamma=1, kernel=sigmoid;, score=0.385 total time=  22.2s\n",
      "[CV 3/5] END ...C=0.01, gamma=1, kernel=sigmoid;, score=0.389 total time=  21.2s\n",
      "[CV 4/5] END ...C=0.01, gamma=1, kernel=sigmoid;, score=0.382 total time=  22.2s\n",
      "[CV 5/5] END ...C=0.01, gamma=1, kernel=sigmoid;, score=0.380 total time=  23.0s\n",
      "[CV 1/5] END ...C=0.01, gamma=10, kernel=linear;, score=0.705 total time=   6.8s\n",
      "[CV 2/5] END ...C=0.01, gamma=10, kernel=linear;, score=0.699 total time=   7.2s\n",
      "[CV 3/5] END ...C=0.01, gamma=10, kernel=linear;, score=0.696 total time=   7.2s\n",
      "[CV 4/5] END ...C=0.01, gamma=10, kernel=linear;, score=0.699 total time=   6.7s\n",
      "[CV 5/5] END ...C=0.01, gamma=10, kernel=linear;, score=0.696 total time=   6.8s\n",
      "[CV 1/5] END ......C=0.01, gamma=10, kernel=rbf;, score=0.302 total time=  34.1s\n",
      "[CV 2/5] END ......C=0.01, gamma=10, kernel=rbf;, score=0.302 total time=  34.1s\n",
      "[CV 3/5] END ......C=0.01, gamma=10, kernel=rbf;, score=0.302 total time=  34.0s\n",
      "[CV 4/5] END ......C=0.01, gamma=10, kernel=rbf;, score=0.302 total time=  34.0s\n",
      "[CV 5/5] END ......C=0.01, gamma=10, kernel=rbf;, score=0.302 total time=  34.0s\n",
      "[CV 1/5] END ..C=0.01, gamma=10, kernel=sigmoid;, score=0.377 total time=  16.2s\n",
      "[CV 2/5] END ..C=0.01, gamma=10, kernel=sigmoid;, score=0.376 total time=  16.4s\n",
      "[CV 3/5] END ..C=0.01, gamma=10, kernel=sigmoid;, score=0.388 total time=  16.4s\n",
      "[CV 4/5] END ..C=0.01, gamma=10, kernel=sigmoid;, score=0.373 total time=  16.1s\n",
      "[CV 5/5] END ..C=0.01, gamma=10, kernel=sigmoid;, score=0.373 total time=  15.2s\n",
      "[CV 1/5] END ...C=0.1, gamma=0.1, kernel=linear;, score=0.713 total time=   5.9s\n",
      "[CV 2/5] END ...C=0.1, gamma=0.1, kernel=linear;, score=0.711 total time=   5.9s\n",
      "[CV 3/5] END ...C=0.1, gamma=0.1, kernel=linear;, score=0.710 total time=   5.8s\n",
      "[CV 4/5] END ...C=0.1, gamma=0.1, kernel=linear;, score=0.716 total time=   6.1s\n",
      "[CV 5/5] END ...C=0.1, gamma=0.1, kernel=linear;, score=0.712 total time=   5.9s\n",
      "[CV 1/5] END ......C=0.1, gamma=0.1, kernel=rbf;, score=0.721 total time=  17.0s\n",
      "[CV 2/5] END ......C=0.1, gamma=0.1, kernel=rbf;, score=0.715 total time=  16.9s\n",
      "[CV 3/5] END ......C=0.1, gamma=0.1, kernel=rbf;, score=0.713 total time=  16.8s\n",
      "[CV 4/5] END ......C=0.1, gamma=0.1, kernel=rbf;, score=0.726 total time=  17.0s\n",
      "[CV 5/5] END ......C=0.1, gamma=0.1, kernel=rbf;, score=0.719 total time=  16.8s\n",
      "[CV 1/5] END ..C=0.1, gamma=0.1, kernel=sigmoid;, score=0.521 total time=  11.2s\n",
      "[CV 2/5] END ..C=0.1, gamma=0.1, kernel=sigmoid;, score=0.495 total time=  11.9s\n",
      "[CV 3/5] END ..C=0.1, gamma=0.1, kernel=sigmoid;, score=0.499 total time=  12.0s\n",
      "[CV 4/5] END ..C=0.1, gamma=0.1, kernel=sigmoid;, score=0.515 total time=  11.0s\n",
      "[CV 5/5] END ..C=0.1, gamma=0.1, kernel=sigmoid;, score=0.506 total time=  12.0s\n",
      "[CV 1/5] END .....C=0.1, gamma=1, kernel=linear;, score=0.713 total time=   5.9s\n",
      "[CV 2/5] END .....C=0.1, gamma=1, kernel=linear;, score=0.711 total time=   6.0s\n",
      "[CV 3/5] END .....C=0.1, gamma=1, kernel=linear;, score=0.710 total time=   5.9s\n",
      "[CV 4/5] END .....C=0.1, gamma=1, kernel=linear;, score=0.716 total time=   6.2s\n",
      "[CV 5/5] END .....C=0.1, gamma=1, kernel=linear;, score=0.712 total time=   6.0s\n",
      "[CV 1/5] END ........C=0.1, gamma=1, kernel=rbf;, score=0.305 total time=  34.2s\n",
      "[CV 2/5] END ........C=0.1, gamma=1, kernel=rbf;, score=0.305 total time=  34.0s\n",
      "[CV 3/5] END ........C=0.1, gamma=1, kernel=rbf;, score=0.304 total time=  33.9s\n",
      "[CV 4/5] END ........C=0.1, gamma=1, kernel=rbf;, score=0.304 total time=  34.0s\n",
      "[CV 5/5] END ........C=0.1, gamma=1, kernel=rbf;, score=0.304 total time=  34.1s\n",
      "[CV 1/5] END ....C=0.1, gamma=1, kernel=sigmoid;, score=0.345 total time=  17.5s\n",
      "[CV 2/5] END ....C=0.1, gamma=1, kernel=sigmoid;, score=0.359 total time=  18.0s\n",
      "[CV 3/5] END ....C=0.1, gamma=1, kernel=sigmoid;, score=0.348 total time=  17.1s\n",
      "[CV 4/5] END ....C=0.1, gamma=1, kernel=sigmoid;, score=0.342 total time=  18.7s\n",
      "[CV 5/5] END ....C=0.1, gamma=1, kernel=sigmoid;, score=0.359 total time=  17.7s\n",
      "[CV 1/5] END ....C=0.1, gamma=10, kernel=linear;, score=0.713 total time=   6.0s\n",
      "[CV 2/5] END ....C=0.1, gamma=10, kernel=linear;, score=0.711 total time=   5.9s\n",
      "[CV 3/5] END ....C=0.1, gamma=10, kernel=linear;, score=0.710 total time=   5.8s\n",
      "[CV 4/5] END ....C=0.1, gamma=10, kernel=linear;, score=0.716 total time=   6.2s\n",
      "[CV 5/5] END ....C=0.1, gamma=10, kernel=linear;, score=0.712 total time=   6.0s\n",
      "[CV 1/5] END .......C=0.1, gamma=10, kernel=rbf;, score=0.302 total time=  37.0s\n",
      "[CV 2/5] END .......C=0.1, gamma=10, kernel=rbf;, score=0.302 total time=  37.1s\n",
      "[CV 3/5] END .......C=0.1, gamma=10, kernel=rbf;, score=0.302 total time=  36.5s\n",
      "[CV 4/5] END .......C=0.1, gamma=10, kernel=rbf;, score=0.302 total time=  36.7s\n",
      "[CV 5/5] END .......C=0.1, gamma=10, kernel=rbf;, score=0.302 total time=  36.8s\n",
      "[CV 1/5] END ...C=0.1, gamma=10, kernel=sigmoid;, score=0.343 total time=  13.5s\n",
      "[CV 2/5] END ...C=0.1, gamma=10, kernel=sigmoid;, score=0.366 total time=  13.7s\n",
      "[CV 3/5] END ...C=0.1, gamma=10, kernel=sigmoid;, score=0.356 total time=  12.2s\n",
      "[CV 4/5] END ...C=0.1, gamma=10, kernel=sigmoid;, score=0.339 total time=  13.8s\n",
      "[CV 5/5] END ...C=0.1, gamma=10, kernel=sigmoid;, score=0.340 total time=  12.1s\n",
      "[CV 1/5] END .....C=1, gamma=0.1, kernel=linear;, score=0.718 total time=   9.5s\n",
      "[CV 2/5] END .....C=1, gamma=0.1, kernel=linear;, score=0.715 total time=   9.2s\n",
      "[CV 3/5] END .....C=1, gamma=0.1, kernel=linear;, score=0.712 total time=   9.3s\n",
      "[CV 4/5] END .....C=1, gamma=0.1, kernel=linear;, score=0.720 total time=   9.9s\n",
      "[CV 5/5] END .....C=1, gamma=0.1, kernel=linear;, score=0.715 total time=  10.0s\n",
      "[CV 1/5] END ........C=1, gamma=0.1, kernel=rbf;, score=0.776 total time=  14.0s\n",
      "[CV 2/5] END ........C=1, gamma=0.1, kernel=rbf;, score=0.772 total time=  13.6s\n",
      "[CV 3/5] END ........C=1, gamma=0.1, kernel=rbf;, score=0.772 total time=  13.6s\n",
      "[CV 4/5] END ........C=1, gamma=0.1, kernel=rbf;, score=0.776 total time=  13.7s\n",
      "[CV 5/5] END ........C=1, gamma=0.1, kernel=rbf;, score=0.781 total time=  13.7s\n",
      "[CV 1/5] END ....C=1, gamma=0.1, kernel=sigmoid;, score=0.515 total time=   8.4s\n"
     ]
    },
    {
     "name": "stdout",
     "output_type": "stream",
     "text": [
      "[CV 2/5] END ....C=1, gamma=0.1, kernel=sigmoid;, score=0.487 total time=   8.3s\n",
      "[CV 3/5] END ....C=1, gamma=0.1, kernel=sigmoid;, score=0.487 total time=   8.4s\n",
      "[CV 4/5] END ....C=1, gamma=0.1, kernel=sigmoid;, score=0.507 total time=   9.2s\n",
      "[CV 5/5] END ....C=1, gamma=0.1, kernel=sigmoid;, score=0.490 total time=   9.5s\n",
      "[CV 1/5] END .......C=1, gamma=1, kernel=linear;, score=0.718 total time=  11.6s\n",
      "[CV 2/5] END .......C=1, gamma=1, kernel=linear;, score=0.715 total time=  10.2s\n",
      "[CV 3/5] END .......C=1, gamma=1, kernel=linear;, score=0.712 total time=   9.6s\n",
      "[CV 4/5] END .......C=1, gamma=1, kernel=linear;, score=0.720 total time=  10.0s\n",
      "[CV 5/5] END .......C=1, gamma=1, kernel=linear;, score=0.715 total time=   9.9s\n",
      "[CV 1/5] END ..........C=1, gamma=1, kernel=rbf;, score=0.395 total time=  38.1s\n",
      "[CV 2/5] END ..........C=1, gamma=1, kernel=rbf;, score=0.393 total time=  36.8s\n",
      "[CV 3/5] END ..........C=1, gamma=1, kernel=rbf;, score=0.392 total time=  37.0s\n",
      "[CV 4/5] END ..........C=1, gamma=1, kernel=rbf;, score=0.400 total time=  36.8s\n",
      "[CV 5/5] END ..........C=1, gamma=1, kernel=rbf;, score=0.397 total time=  36.6s\n",
      "[CV 1/5] END ......C=1, gamma=1, kernel=sigmoid;, score=0.344 total time=  17.1s\n",
      "[CV 2/5] END ......C=1, gamma=1, kernel=sigmoid;, score=0.359 total time=  17.5s\n",
      "[CV 3/5] END ......C=1, gamma=1, kernel=sigmoid;, score=0.350 total time=  16.7s\n",
      "[CV 4/5] END ......C=1, gamma=1, kernel=sigmoid;, score=0.337 total time=  17.9s\n",
      "[CV 5/5] END ......C=1, gamma=1, kernel=sigmoid;, score=0.341 total time=  17.7s\n",
      "[CV 1/5] END ......C=1, gamma=10, kernel=linear;, score=0.718 total time=   9.5s\n",
      "[CV 2/5] END ......C=1, gamma=10, kernel=linear;, score=0.715 total time=   9.3s\n",
      "[CV 3/5] END ......C=1, gamma=10, kernel=linear;, score=0.712 total time=   9.2s\n",
      "[CV 4/5] END ......C=1, gamma=10, kernel=linear;, score=0.720 total time=   9.9s\n",
      "[CV 5/5] END ......C=1, gamma=10, kernel=linear;, score=0.715 total time=  10.2s\n",
      "[CV 1/5] END .........C=1, gamma=10, kernel=rbf;, score=0.305 total time=  40.3s\n",
      "[CV 2/5] END .........C=1, gamma=10, kernel=rbf;, score=0.307 total time=  40.2s\n",
      "[CV 3/5] END .........C=1, gamma=10, kernel=rbf;, score=0.304 total time=  40.2s\n",
      "[CV 4/5] END .........C=1, gamma=10, kernel=rbf;, score=0.306 total time=  40.4s\n",
      "[CV 5/5] END .........C=1, gamma=10, kernel=rbf;, score=0.306 total time=  40.4s\n",
      "[CV 1/5] END .....C=1, gamma=10, kernel=sigmoid;, score=0.342 total time=  13.4s\n",
      "[CV 2/5] END .....C=1, gamma=10, kernel=sigmoid;, score=0.360 total time=  13.5s\n",
      "[CV 3/5] END .....C=1, gamma=10, kernel=sigmoid;, score=0.351 total time=  13.0s\n",
      "[CV 4/5] END .....C=1, gamma=10, kernel=sigmoid;, score=0.335 total time=  13.4s\n",
      "[CV 5/5] END .....C=1, gamma=10, kernel=sigmoid;, score=0.342 total time=  12.0s\n"
     ]
    }
   ],
   "source": [
    "grid = GridSearchCV(SVC(), param_grid, refit=True, verbose=3)\n",
    "grid.fit(X_train_scaled, y_train)\n",
    "\n",
    "best_params = grid.best_params_\n",
    "best_score = grid.best_score_"
   ]
  },
  {
   "cell_type": "markdown",
   "id": "ba55ff1b",
   "metadata": {},
   "source": [
    "Вывод лучших гиперпараметров и оценка производительности модели на тестовом наборе"
   ]
  },
  {
   "cell_type": "code",
   "execution_count": 7,
   "id": "9978ddd2",
   "metadata": {},
   "outputs": [
    {
     "name": "stdout",
     "output_type": "stream",
     "text": [
      "Лучшие гиперпараметры: {'C': 1, 'gamma': 0.1, 'kernel': 'rbf'}\n",
      "Точность модели: 0.7906042963260389\n",
      "Отчет о классификации:\n",
      "              precision    recall  f1-score   support\n",
      "\n",
      "       Movie       0.73      0.82      0.77       867\n",
      "       Music       0.92      0.95      0.94       517\n",
      "         ONA       0.64      0.63      0.63       683\n",
      "         OVA       0.75      0.76      0.76       817\n",
      "     Special       0.50      0.34      0.41       506\n",
      "          TV       0.93      0.96      0.94      1576\n",
      "     UNKNOWN       0.75      0.20      0.32        15\n",
      "\n",
      "    accuracy                           0.79      4981\n",
      "   macro avg       0.75      0.67      0.68      4981\n",
      "weighted avg       0.78      0.79      0.78      4981\n",
      "\n"
     ]
    }
   ],
   "source": [
    "print(\"Лучшие гиперпараметры:\", grid.best_params_)\n",
    "best_svc = grid.best_estimator_\n",
    "y_pred = best_svc.predict(X_test_scaled)\n",
    "accuracy = accuracy_score(y_test, y_pred)\n",
    "print(f\"Точность модели: {accuracy}\")\n",
    "\n",
    "# Получение отчета о классификации с предупреждениями\n",
    "report = classification_report(y_test, y_pred, zero_division=1)\n",
    "print(f'Отчет о классификации:\\n{report}')"
   ]
  },
  {
   "cell_type": "code",
   "execution_count": null,
   "id": "dcddcce3",
   "metadata": {},
   "outputs": [],
   "source": []
  }
 ],
 "metadata": {
  "kernelspec": {
   "display_name": "Python 3 (ipykernel)",
   "language": "python",
   "name": "python3"
  },
  "language_info": {
   "codemirror_mode": {
    "name": "ipython",
    "version": 3
   },
   "file_extension": ".py",
   "mimetype": "text/x-python",
   "name": "python",
   "nbconvert_exporter": "python",
   "pygments_lexer": "ipython3",
   "version": "3.9.13"
  }
 },
 "nbformat": 4,
 "nbformat_minor": 5
}
