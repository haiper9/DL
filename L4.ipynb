{
 "cells": [
  {
   "cell_type": "markdown",
   "id": "c3f5f19b",
   "metadata": {},
   "source": [
    "# Лабораторная работа №4\n",
    "\n",
    "Задание 1 . Провести классификацию найденного датасета, методами наивного Байеса  . В формате *Markdown* написать пояснения. Объяснить почему были выбраны именно такие гиперпараметры, была ли перекрестная проверка, и т.д."
   ]
  },
  {
   "cell_type": "code",
   "execution_count": 6,
   "id": "dd4c3114",
   "metadata": {},
   "outputs": [],
   "source": [
    "import pandas as pd\n",
    "from sklearn.model_selection import train_test_split, cross_val_score\n",
    "from sklearn.preprocessing import LabelEncoder\n",
    "from sklearn.naive_bayes import GaussianNB\n",
    "from sklearn.metrics import accuracy_score, classification_report"
   ]
  },
  {
   "cell_type": "code",
   "execution_count": 12,
   "id": "f2be595c",
   "metadata": {},
   "outputs": [],
   "source": [
    "data = pd.read_csv('anime-dataset-2023.csv')"
   ]
  },
  {
   "cell_type": "code",
   "execution_count": 16,
   "id": "85bb6663",
   "metadata": {},
   "outputs": [
    {
     "name": "stdout",
     "output_type": "stream",
     "text": [
      "Общая информация о данных:\n",
      "Количество строк: 24905\n",
      "Количество столбцов: 24\n",
      "\n",
      "Типы данных по столбцам:\n",
      "anime_id        int64\n",
      "Name            int32\n",
      "English name    int32\n",
      "Other name      int32\n",
      "Score           int32\n",
      "Genres          int32\n",
      "Synopsis        int32\n",
      "Type            int32\n",
      "Episodes        int32\n",
      "Aired           int32\n",
      "Premiered       int32\n",
      "Status          int32\n",
      "Producers       int32\n",
      "Licensors       int32\n",
      "Studios         int32\n",
      "Source          int32\n",
      "Duration        int32\n",
      "Rating          int32\n",
      "Rank            int32\n",
      "Popularity      int64\n",
      "Favorites       int64\n",
      "Scored By       int32\n",
      "Members         int64\n",
      "Image URL       int32\n",
      "dtype: object\n"
     ]
    }
   ],
   "source": [
    "# Вывод общей информации о данных\n",
    "print(\"Общая информация о данных:\")\n",
    "print(f\"Количество строк: {data.shape[0]}\")\n",
    "print(f\"Количество столбцов: {data.shape[1]}\")\n",
    "print(\"\\nТипы данных по столбцам:\")\n",
    "print(data.dtypes)"
   ]
  },
  {
   "cell_type": "code",
   "execution_count": 17,
   "id": "3f4666b7",
   "metadata": {},
   "outputs": [
    {
     "name": "stdout",
     "output_type": "stream",
     "text": [
      "Точность: 0.5207789600481831\n",
      "              precision    recall  f1-score   support\n",
      "\n",
      "           0       0.73      0.10      0.17       867\n",
      "           1       0.46      0.94      0.62       517\n",
      "           2       0.30      0.55      0.39       683\n",
      "           3       0.68      0.40      0.51       817\n",
      "           4       0.28      0.39      0.32       506\n",
      "           5       0.98      0.70      0.82      1576\n",
      "           6       0.06      0.93      0.12        15\n",
      "\n",
      "    accuracy                           0.52      4981\n",
      "   macro avg       0.50      0.57      0.42      4981\n",
      "weighted avg       0.67      0.52      0.52      4981\n",
      "\n"
     ]
    }
   ],
   "source": [
    "# Разделение данных на признаки и целевую переменную\n",
    "X = data.drop('Type', axis=1)\n",
    "y = data['Type']\n",
    "# Преобразование категориальных признаков в числовые\n",
    "label_encoder = LabelEncoder()\n",
    "for column in data.columns:\n",
    "    if data[column].dtype == 'object':\n",
    "        data[column] = label_encoder.fit_transform(data[column])\n",
    "# Разделение данных на обучающий и тестовый наборы\n",
    "X_train, X_test, y_train, y_test = train_test_split(X, y, test_size=0.2, random_state=42)\n",
    "\n",
    "# Инициализация модели наивного Байеса\n",
    "nb = GaussianNB()\n",
    "\n",
    "# Обучение модели на обучающем наборе данных\n",
    "nb.fit(X_train, y_train)\n",
    "\n",
    "# Предсказание на тестовых данных\n",
    "predictions = nb.predict(X_test)\n",
    "\n",
    "# Оценка качества модели на тестовом наборе\n",
    "accuracy = accuracy_score(y_test, predictions)\n",
    "print(f'Точность: {accuracy}')\n",
    "\n",
    "# Вывод отчета о классификации\n",
    "print(classification_report(y_test, predictions))\n"
   ]
  },
  {
   "cell_type": "code",
   "execution_count": null,
   "id": "031af1e8",
   "metadata": {},
   "outputs": [],
   "source": []
  }
 ],
 "metadata": {
  "kernelspec": {
   "display_name": "Python 3 (ipykernel)",
   "language": "python",
   "name": "python3"
  },
  "language_info": {
   "codemirror_mode": {
    "name": "ipython",
    "version": 3
   },
   "file_extension": ".py",
   "mimetype": "text/x-python",
   "name": "python",
   "nbconvert_exporter": "python",
   "pygments_lexer": "ipython3",
   "version": "3.9.13"
  }
 },
 "nbformat": 4,
 "nbformat_minor": 5
}
