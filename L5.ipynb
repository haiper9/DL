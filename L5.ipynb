{
 "cells": [
  {
   "cell_type": "markdown",
   "id": "0f789277",
   "metadata": {},
   "source": [
    "# Лабораторная работа 5\n",
    "\n",
    "Задание 1 . Провести классификацию найденного датасета, методами решающего дерева и случайного леса . В формате *Markdown* написать пояснения. Объяснить почему были выбраны именно такие гиперпараметры, была ли перекрестная проверка, и т.д."
   ]
  },
  {
   "cell_type": "code",
   "execution_count": 1,
   "id": "4c6a2ce9",
   "metadata": {},
   "outputs": [],
   "source": [
    "import pandas as pd\n",
    "from sklearn.model_selection import train_test_split, GridSearchCV\n",
    "from sklearn.preprocessing import LabelEncoder\n",
    "from sklearn.tree import DecisionTreeClassifier\n",
    "from sklearn.ensemble import RandomForestClassifier\n",
    "from sklearn.metrics import accuracy_score, classification_report"
   ]
  },
  {
   "cell_type": "code",
   "execution_count": 2,
   "id": "54681269",
   "metadata": {},
   "outputs": [],
   "source": [
    "data = pd.read_csv('anime-dataset-2023.csv')"
   ]
  },
  {
   "cell_type": "code",
   "execution_count": 3,
   "id": "1e96bb6f",
   "metadata": {},
   "outputs": [
    {
     "name": "stdout",
     "output_type": "stream",
     "text": [
      "Общая информация о данных:\n",
      "Количество строк: 24905\n",
      "Количество столбцов: 24\n",
      "\n",
      "Типы данных по столбцам:\n",
      "anime_id         int64\n",
      "Name            object\n",
      "English name    object\n",
      "Other name      object\n",
      "Score           object\n",
      "Genres          object\n",
      "Synopsis        object\n",
      "Type            object\n",
      "Episodes        object\n",
      "Aired           object\n",
      "Premiered       object\n",
      "Status          object\n",
      "Producers       object\n",
      "Licensors       object\n",
      "Studios         object\n",
      "Source          object\n",
      "Duration        object\n",
      "Rating          object\n",
      "Rank            object\n",
      "Popularity       int64\n",
      "Favorites        int64\n",
      "Scored By       object\n",
      "Members          int64\n",
      "Image URL       object\n",
      "dtype: object\n"
     ]
    }
   ],
   "source": [
    "# Вывод общей информации о данных\n",
    "print(\"Общая информация о данных:\")\n",
    "print(f\"Количество строк: {data.shape[0]}\")\n",
    "print(f\"Количество столбцов: {data.shape[1]}\")\n",
    "print(\"\\nТипы данных по столбцам:\")\n",
    "print(data.dtypes)"
   ]
  },
  {
   "cell_type": "code",
   "execution_count": 4,
   "id": "261fdbcf",
   "metadata": {},
   "outputs": [
    {
     "name": "stderr",
     "output_type": "stream",
     "text": [
      "C:\\Users\\ilyap\\AppData\\Local\\Temp\\ipykernel_17420\\2961781293.py:13: SettingWithCopyWarning: \n",
      "A value is trying to be set on a copy of a slice from a DataFrame.\n",
      "Try using .loc[row_indexer,col_indexer] = value instead\n",
      "\n",
      "See the caveats in the documentation: https://pandas.pydata.org/pandas-docs/stable/user_guide/indexing.html#returning-a-view-versus-a-copy\n",
      "  X.loc[:, column] = label_encoders[column].fit_transform(X.loc[:, column])\n"
     ]
    },
    {
     "name": "stdout",
     "output_type": "stream",
     "text": [
      "Лучшие параметры для решающего дерева: {'max_depth': 10, 'min_samples_leaf': 4, 'min_samples_split': 2}\n",
      "Точность настроенных параметров решающего дерева: 0.5771933346717527\n",
      "Classification Report of Tuned Decision Tree:\n",
      "              precision    recall  f1-score   support\n",
      "\n",
      "       Movie       0.44      0.62      0.52       867\n",
      "       Music       0.41      0.47      0.44       517\n",
      "         ONA       0.45      0.32      0.37       683\n",
      "         OVA       0.51      0.51      0.51       817\n",
      "     Special       0.38      0.18      0.24       506\n",
      "          TV       0.84      0.87      0.85      1576\n",
      "     UNKNOWN       0.00      0.00      0.00        15\n",
      "\n",
      "    accuracy                           0.58      4981\n",
      "   macro avg       0.43      0.42      0.42      4981\n",
      "weighted avg       0.57      0.58      0.57      4981\n",
      "\n"
     ]
    },
    {
     "name": "stderr",
     "output_type": "stream",
     "text": [
      "C:\\Users\\ilyap\\anaconda3\\lib\\site-packages\\sklearn\\metrics\\_classification.py:1318: UndefinedMetricWarning: Precision and F-score are ill-defined and being set to 0.0 in labels with no predicted samples. Use `zero_division` parameter to control this behavior.\n",
      "  _warn_prf(average, modifier, msg_start, len(result))\n",
      "C:\\Users\\ilyap\\anaconda3\\lib\\site-packages\\sklearn\\metrics\\_classification.py:1318: UndefinedMetricWarning: Precision and F-score are ill-defined and being set to 0.0 in labels with no predicted samples. Use `zero_division` parameter to control this behavior.\n",
      "  _warn_prf(average, modifier, msg_start, len(result))\n",
      "C:\\Users\\ilyap\\anaconda3\\lib\\site-packages\\sklearn\\metrics\\_classification.py:1318: UndefinedMetricWarning: Precision and F-score are ill-defined and being set to 0.0 in labels with no predicted samples. Use `zero_division` parameter to control this behavior.\n",
      "  _warn_prf(average, modifier, msg_start, len(result))\n"
     ]
    },
    {
     "name": "stdout",
     "output_type": "stream",
     "text": [
      "\n",
      "Лушчие параметры для случайного леса: {'max_depth': None, 'min_samples_leaf': 1, 'min_samples_split': 5, 'n_estimators': 100}\n",
      "Точность настроенных параметров случайного леса: 0.5645452720337282\n",
      "Classification Report of Tuned Random Forest:\n",
      "              precision    recall  f1-score   support\n",
      "\n",
      "       Movie       0.45      0.49      0.47       867\n",
      "       Music       0.35      0.36      0.35       517\n",
      "         ONA       0.38      0.28      0.32       683\n",
      "         OVA       0.52      0.54      0.53       817\n",
      "     Special       0.35      0.28      0.31       506\n",
      "          TV       0.82      0.90      0.86      1576\n",
      "     UNKNOWN       0.33      0.07      0.11        15\n",
      "\n",
      "    accuracy                           0.56      4981\n",
      "   macro avg       0.46      0.42      0.42      4981\n",
      "weighted avg       0.55      0.56      0.55      4981\n",
      "\n"
     ]
    }
   ],
   "source": [
    "# Предположим, что вы хотите предсказать 'Medical Condition' на основе других столбцов\n",
    "# Выборка признаков и целевой переменной\n",
    "features = ['Popularity', 'Favorites', 'Members', 'Episodes']\n",
    "target = 'Type'\n",
    "\n",
    "X = data[features]\n",
    "y = data[target]\n",
    "\n",
    "# Преобразование категориальных признаков в числовые значения\n",
    "label_encoders = {}\n",
    "for column in X.select_dtypes(include=['object']).columns:\n",
    "    label_encoders[column] = LabelEncoder()\n",
    "    X.loc[:, column] = label_encoders[column].fit_transform(X.loc[:, column])\n",
    "\n",
    "# Разделение данных на обучающую и тестовую выборки\n",
    "X_train, X_test, y_train, y_test = train_test_split(X, y, test_size=0.2, random_state=42)\n",
    "\n",
    "# Настройка гиперпараметров для решающего дерева\n",
    "params_dt = {\n",
    "    'max_depth': [3, 5, 7, 10],\n",
    "    'min_samples_split': [2, 5, 10],\n",
    "    'min_samples_leaf': [1, 2, 4]\n",
    "}\n",
    "\n",
    "decision_tree = DecisionTreeClassifier(random_state=42)\n",
    "grid_search_dt = GridSearchCV(decision_tree, params_dt, cv=5)\n",
    "grid_search_dt.fit(X_train, y_train)\n",
    "\n",
    "best_decision_tree = grid_search_dt.best_estimator_\n",
    "predictions_dt_tuned = best_decision_tree.predict(X_test)\n",
    "accuracy_dt_tuned = accuracy_score(y_test, predictions_dt_tuned)\n",
    "\n",
    "print(\"Лучшие параметры для решающего дерева:\", grid_search_dt.best_params_)\n",
    "print(\"Точность настроенных параметров решающего дерева:\", accuracy_dt_tuned)\n",
    "print(\"Classification Report of Tuned Decision Tree:\")\n",
    "print(classification_report(y_test, predictions_dt_tuned))\n",
    "\n",
    "params_rf = {\n",
    "    'n_estimators': [50, 100],\n",
    "    'max_depth': [None, 5],\n",
    "    'min_samples_split': [2, 5],\n",
    "    'min_samples_leaf': [1]\n",
    "}\n",
    "\n",
    "random_forest = RandomForestClassifier(random_state=42)\n",
    "grid_search_rf = GridSearchCV(random_forest, params_rf, cv=5)\n",
    "grid_search_rf.fit(X_train, y_train)\n",
    "\n",
    "best_random_forest = grid_search_rf.best_estimator_\n",
    "predictions_rf_tuned = best_random_forest.predict(X_test)\n",
    "accuracy_rf_tuned = accuracy_score(y_test, predictions_rf_tuned)\n",
    "\n",
    "print(\"\\nЛушчие параметры для случайного леса:\", grid_search_rf.best_params_)\n",
    "print(\"Точность настроенных параметров случайного леса:\", accuracy_rf_tuned)\n",
    "print(\"Classification Report of Tuned Random Forest:\")\n",
    "print(classification_report(y_test, predictions_rf_tuned))"
   ]
  },
  {
   "cell_type": "code",
   "execution_count": null,
   "id": "d56ae86e",
   "metadata": {},
   "outputs": [],
   "source": []
  }
 ],
 "metadata": {
  "kernelspec": {
   "display_name": "Python 3 (ipykernel)",
   "language": "python",
   "name": "python3"
  },
  "language_info": {
   "codemirror_mode": {
    "name": "ipython",
    "version": 3
   },
   "file_extension": ".py",
   "mimetype": "text/x-python",
   "name": "python",
   "nbconvert_exporter": "python",
   "pygments_lexer": "ipython3",
   "version": "3.9.13"
  }
 },
 "nbformat": 4,
 "nbformat_minor": 5
}
