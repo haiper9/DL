{
 "cells": [
  {
   "cell_type": "markdown",
   "id": "b4afa0a3",
   "metadata": {},
   "source": [
    "# Лабораторная работа №3\n",
    "\n",
    "Задание 1 . Провести классификацию найденного датасета, методами линеной и логистической регрессий . В формате *Markdown* написать пояснения. Объяснить почему были выбраны именно такие гиперпараметры, была ли перекрестная проверка, и т.д."
   ]
  },
  {
   "cell_type": "code",
   "execution_count": 1,
   "id": "5d38fdcc",
   "metadata": {},
   "outputs": [],
   "source": [
    "import pandas as pd\n",
    "from sklearn.model_selection import train_test_split\n",
    "from sklearn.preprocessing import LabelEncoder\n",
    "from sklearn.linear_model import LinearRegression, LogisticRegression\n",
    "from sklearn.metrics import accuracy_score, mean_squared_error, r2_score, classification_report"
   ]
  },
  {
   "cell_type": "code",
   "execution_count": 2,
   "id": "2bdd8fb6",
   "metadata": {},
   "outputs": [],
   "source": [
    "data = pd.read_csv('anime-dataset-2023.csv')"
   ]
  },
  {
   "cell_type": "code",
   "execution_count": 3,
   "id": "b6f0aa09",
   "metadata": {},
   "outputs": [
    {
     "name": "stdout",
     "output_type": "stream",
     "text": [
      "Общая информация о данных:\n",
      "Количество строк: 24905\n",
      "Количество столбцов: 24\n",
      "\n",
      "Типы данных по столбцам:\n",
      "anime_id         int64\n",
      "Name            object\n",
      "English name    object\n",
      "Other name      object\n",
      "Score           object\n",
      "Genres          object\n",
      "Synopsis        object\n",
      "Type            object\n",
      "Episodes        object\n",
      "Aired           object\n",
      "Premiered       object\n",
      "Status          object\n",
      "Producers       object\n",
      "Licensors       object\n",
      "Studios         object\n",
      "Source          object\n",
      "Duration        object\n",
      "Rating          object\n",
      "Rank            object\n",
      "Popularity       int64\n",
      "Favorites        int64\n",
      "Scored By       object\n",
      "Members          int64\n",
      "Image URL       object\n",
      "dtype: object\n"
     ]
    }
   ],
   "source": [
    "# Вывод общей информации о данных\n",
    "print(\"Общая информация о данных:\")\n",
    "print(f\"Количество строк: {data.shape[0]}\")\n",
    "print(f\"Количество столбцов: {data.shape[1]}\")\n",
    "print(\"\\nТипы данных по столбцам:\")\n",
    "print(data.dtypes)"
   ]
  },
  {
   "cell_type": "code",
   "execution_count": 5,
   "id": "5a418bac",
   "metadata": {},
   "outputs": [
    {
     "name": "stderr",
     "output_type": "stream",
     "text": [
      "C:\\Users\\ilyap\\anaconda3\\lib\\site-packages\\sklearn\\linear_model\\_logistic.py:814: ConvergenceWarning: lbfgs failed to converge (status=1):\n",
      "STOP: TOTAL NO. of ITERATIONS REACHED LIMIT.\n",
      "\n",
      "Increase the number of iterations (max_iter) or scale the data as shown in:\n",
      "    https://scikit-learn.org/stable/modules/preprocessing.html\n",
      "Please also refer to the documentation for alternative solver options:\n",
      "    https://scikit-learn.org/stable/modules/linear_model.html#logistic-regression\n",
      "  n_iter_i = _check_optimize_result(\n"
     ]
    },
    {
     "name": "stdout",
     "output_type": "stream",
     "text": [
      "Точность (Логистическая регрессия - Начальные параметры) : 0.6396305962658101\n",
      "Accuracy (Логистическая регрессия - Кастомные параметры) : 0.6396305962658101\n",
      "Classification Report (Логистическая регрессия - Начальные параметры):\n",
      "              precision    recall  f1-score   support\n",
      "\n",
      "           0       0.55      0.62      0.59       867\n",
      "           1       0.72      0.89      0.79       517\n",
      "           2       0.44      0.43      0.44       683\n",
      "           3       0.54      0.56      0.55       817\n",
      "           4       0.36      0.09      0.15       506\n",
      "           5       0.80      0.88      0.84      1576\n",
      "           6       0.00      0.00      0.00        15\n",
      "\n",
      "    accuracy                           0.64      4981\n",
      "   macro avg       0.49      0.50      0.48      4981\n",
      "weighted avg       0.61      0.64      0.62      4981\n",
      "\n",
      "Classification Report (Логистическая регрессия - Кастомные параметры):\n",
      "              precision    recall  f1-score   support\n",
      "\n",
      "           0       0.55      0.62      0.59       867\n",
      "           1       0.72      0.89      0.79       517\n",
      "           2       0.44      0.43      0.44       683\n",
      "           3       0.54      0.56      0.55       817\n",
      "           4       0.36      0.09      0.15       506\n",
      "           5       0.80      0.88      0.84      1576\n",
      "           6       0.00      0.00      0.00        15\n",
      "\n",
      "    accuracy                           0.64      4981\n",
      "   macro avg       0.49      0.50      0.48      4981\n",
      "weighted avg       0.61      0.64      0.62      4981\n",
      "\n",
      "Среднеквадратичная ошибка (Линейная регрессия) : 1.8925115525255056\n",
      "R^2 Score (Линейная регрессия) : 0.4589586127781572\n"
     ]
    },
    {
     "name": "stderr",
     "output_type": "stream",
     "text": [
      "C:\\Users\\ilyap\\anaconda3\\lib\\site-packages\\sklearn\\linear_model\\_logistic.py:814: ConvergenceWarning: lbfgs failed to converge (status=1):\n",
      "STOP: TOTAL NO. of ITERATIONS REACHED LIMIT.\n",
      "\n",
      "Increase the number of iterations (max_iter) or scale the data as shown in:\n",
      "    https://scikit-learn.org/stable/modules/preprocessing.html\n",
      "Please also refer to the documentation for alternative solver options:\n",
      "    https://scikit-learn.org/stable/modules/linear_model.html#logistic-regression\n",
      "  n_iter_i = _check_optimize_result(\n"
     ]
    }
   ],
   "source": [
    "# Преобразование категориальных признаков в числовые\n",
    "label_encoder = LabelEncoder()\n",
    "for column in data.columns:\n",
    "    if data[column].dtype == 'object':\n",
    "        data[column] = label_encoder.fit_transform(data[column])\n",
    "\n",
    "# Удаление ненужных столбцов или подготовка признаков и целевой переменной\n",
    "X = data.drop(['Type'], axis=1) # Признаки\n",
    "y = data['Type']  # Целевая переменная\n",
    "\n",
    "# Разделение данных на обучающий и тестовый наборы\n",
    "X_train, X_test, y_train, y_test = train_test_split(X, y, test_size=0.2, random_state=42)\n",
    "\n",
    "# Модели логистической регрессии с разными гиперпараметрами\n",
    "logistic_model_1 = LogisticRegression(max_iter=1000)  # Модель с параметрами по умолчанию\n",
    "logistic_model_2 = LogisticRegression(penalty='l2', C=1.0, solver='lbfgs', max_iter=1000)  # Модель с настроенными гиперпараметрами\n",
    "\n",
    "# Обучение моделей\n",
    "logistic_model_1.fit(X_train, y_train)\n",
    "logistic_model_2.fit(X_train, y_train)\n",
    "\n",
    "# Получение предсказаний для тестового набора данных\n",
    "logistic_predictions_1 = logistic_model_1.predict(X_test)\n",
    "logistic_predictions_2 = logistic_model_2.predict(X_test)\n",
    "\n",
    "# Оценка производительности моделей на тестовом наборе данных\n",
    "accuracy_1 = accuracy_score(y_test, logistic_predictions_1)\n",
    "accuracy_2 = accuracy_score(y_test, logistic_predictions_2)\n",
    "\n",
    "print(f\"Точность (Логистическая регрессия - Начальные параметры) : {accuracy_1}\")\n",
    "print(f\"Accuracy (Логистическая регрессия - Кастомные параметры) : {accuracy_2}\")\n",
    "\n",
    "# Вывод отчета по классификации для каждой модели\n",
    "report_1 = classification_report(y_test, logistic_predictions_1, zero_division=1)\n",
    "report_2 = classification_report(y_test, logistic_predictions_2, zero_division=1)\n",
    "\n",
    "print(\"Classification Report (Логистическая регрессия - Начальные параметры):\")\n",
    "print(report_1)\n",
    "\n",
    "print(\"Classification Report (Логистическая регрессия - Кастомные параметры):\")\n",
    "print(report_2)\n",
    "\n",
    "# Модель линейной регрессии без указанных гиперпараметров\n",
    "linear_model = LinearRegression()\n",
    "\n",
    "# Обучение модели линейной регрессии\n",
    "linear_model.fit(X_train, y_train)\n",
    "\n",
    "# Получение предсказаний для тестового набора данных\n",
    "linear_predictions = linear_model.predict(X_test)\n",
    "\n",
    "# Оценка производительности модели линейной регрессии на тестовом наборе данных\n",
    "mse = mean_squared_error(y_test, linear_predictions)\n",
    "r2 = r2_score(y_test, linear_predictions)\n",
    "\n",
    "print(f\"Среднеквадратичная ошибка (Линейная регрессия) : {mse}\")\n",
    "print(f\"R^2 Score (Линейная регрессия) : {r2}\")\n"
   ]
  },
  {
   "cell_type": "code",
   "execution_count": null,
   "id": "03de7ca1",
   "metadata": {},
   "outputs": [],
   "source": []
  }
 ],
 "metadata": {
  "kernelspec": {
   "display_name": "Python 3 (ipykernel)",
   "language": "python",
   "name": "python3"
  },
  "language_info": {
   "codemirror_mode": {
    "name": "ipython",
    "version": 3
   },
   "file_extension": ".py",
   "mimetype": "text/x-python",
   "name": "python",
   "nbconvert_exporter": "python",
   "pygments_lexer": "ipython3",
   "version": "3.9.13"
  }
 },
 "nbformat": 4,
 "nbformat_minor": 5
}
